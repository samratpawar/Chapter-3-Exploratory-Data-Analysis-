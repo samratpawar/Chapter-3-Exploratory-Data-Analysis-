{
 "cells": [
  {
   "cell_type": "markdown",
   "id": "2ee240fc",
   "metadata": {},
   "source": [
    "# Overview of Data Prepocessing"
   ]
  },
  {
   "cell_type": "code",
   "execution_count": 36,
   "id": "b0f018d3",
   "metadata": {},
   "outputs": [],
   "source": [
    "#In general , raw data stored in a database may not be in an understandable format.\n",
    "#Often , raw data can be in consistent , incomplete, and may contain many errors.\n",
    "#Thus, we need to improve the quality of this data and simplify it by a method called data preprocessing."
   ]
  },
  {
   "cell_type": "code",
   "execution_count": 3,
   "id": "ac6a9d0b",
   "metadata": {},
   "outputs": [],
   "source": [
    "#Data cleaning : Data cleaning is the process of removing noise and correcting inconsistencies in the data.\n",
    "\n",
    "#Data integration : It involves merging of data from diferent sources.\n",
    "\n",
    "#Data Transformation : Also known as normalisation, is the process of organising database to remove redundancy.\n",
    "\n",
    "#Data Reduction : It is the process of reducing data size by eliminating redundant features."
   ]
  },
  {
   "cell_type": "markdown",
   "id": "b388e6de",
   "metadata": {},
   "source": [
    "# Data Cleaning :"
   ]
  },
  {
   "cell_type": "markdown",
   "id": "7fbf8396",
   "metadata": {},
   "source": [
    "Filling in missing values :"
   ]
  },
  {
   "cell_type": "code",
   "execution_count": 10,
   "id": "a24219fd",
   "metadata": {},
   "outputs": [
    {
     "name": "stdout",
     "output_type": "stream",
     "text": [
      "        one       two     three\n",
      "a  0.343040  0.466260  0.101841\n",
      "b       NaN       NaN       NaN\n",
      "c -0.331879  0.695332 -0.053839\n",
      "d       NaN       NaN       NaN\n",
      "e -0.904229  0.559250 -0.430447\n",
      "f  0.928770 -0.742984 -1.178588\n",
      "g       NaN       NaN       NaN\n",
      "h -0.055059  0.494720 -0.077603\n"
     ]
    }
   ],
   "source": [
    "#Missing data elements in a database is a common problem in the real-world scenario.\n",
    "#The accuracy of prediction gets affected as missing data elements , results in poor-quality database.\n",
    "\n",
    "#Let us see how to handle missing values (say,NA or NaN) using pandas:\n",
    "import pandas as pd\n",
    "import numpy as np\n",
    "df=pd.DataFrame(np.random.randn(5,3),index=['a','c','e','f','h'],columns=['one','two','three'])\n",
    "df = df.reindex(['a','b','c','d','e','f','g','h'])\n",
    "print(df)"
   ]
  },
  {
   "cell_type": "code",
   "execution_count": 13,
   "id": "1bd3872a",
   "metadata": {},
   "outputs": [
    {
     "name": "stdout",
     "output_type": "stream",
     "text": [
      "a    False\n",
      "b     True\n",
      "c    False\n",
      "d     True\n",
      "e    False\n",
      "f    False\n",
      "g     True\n",
      "h    False\n",
      "Name: one, dtype: bool\n"
     ]
    }
   ],
   "source": [
    "#To detect missing values in DataFrame , Pandas provides two functions on DataFrame objects:\n",
    "#isnull() and notnull()\n",
    "\n",
    "\n",
    "#isnull():\n",
    "import pandas as pd\n",
    "import numpy as np\n",
    "df = pd.DataFrame(np.random.randn(5,3),index = ['a','c','e','f','h'],columns = ['one','two','three'])\n",
    "df = df.reindex(['a','b','c','d','e','f','g','h'])\n",
    "print (df['one'].isnull())\n"
   ]
  },
  {
   "cell_type": "code",
   "execution_count": 14,
   "id": "b2f6f58c",
   "metadata": {},
   "outputs": [
    {
     "name": "stdout",
     "output_type": "stream",
     "text": [
      "a     True\n",
      "b    False\n",
      "c     True\n",
      "d    False\n",
      "e     True\n",
      "f     True\n",
      "g    False\n",
      "h     True\n",
      "Name: one, dtype: bool\n"
     ]
    }
   ],
   "source": [
    "#notnull():\n",
    "import pandas as pd\n",
    "import numpy as np\n",
    "df = pd.DataFrame(np.random.randn(5,3),index = ['a','c','e','f','h'],columns = ['one','two','three'])\n",
    "df = df.reindex(['a','b','c','d','e','f','g','h'])\n",
    "print (df['one'].notnull())"
   ]
  },
  {
   "cell_type": "markdown",
   "id": "fe4d06c8",
   "metadata": {},
   "source": [
    "Calculation with Missing Data:"
   ]
  },
  {
   "cell_type": "code",
   "execution_count": 36,
   "id": "b221a518",
   "metadata": {},
   "outputs": [
    {
     "name": "stdout",
     "output_type": "stream",
     "text": [
      "3.1884055137723077\n"
     ]
    }
   ],
   "source": [
    "#when the sum of data is calculated, the not a number(NaN) will be treated as zero. \n",
    "#if the entries of data are all NaN, then the sum will be NaN.\n",
    "import pandas as pd\n",
    "import numpy as np\n",
    "df = pd.DataFrame(np.random.randn(5,3),index = ['a','c','e','f','h'],columns = ['one','two','three'])\n",
    "df = df.reindex(['a','b','c','d','e','f','g','h'])\n",
    "print (df['one'].sum())\n"
   ]
  },
  {
   "cell_type": "code",
   "execution_count": 33,
   "id": "27222921",
   "metadata": {},
   "outputs": [
    {
     "name": "stdout",
     "output_type": "stream",
     "text": [
      "0\n"
     ]
    }
   ],
   "source": [
    "import pandas as pd\n",
    "import numpy as np\n",
    "df = pd.DataFrame(index=[0,1,2,3,4,5],columns = ['one','two'])\n",
    "print (df['one'].sum())"
   ]
  },
  {
   "cell_type": "markdown",
   "id": "3dcad325",
   "metadata": {},
   "source": [
    "Cleaning and filling missing data :"
   ]
  },
  {
   "cell_type": "code",
   "execution_count": 42,
   "id": "62823048",
   "metadata": {},
   "outputs": [
    {
     "name": "stdout",
     "output_type": "stream",
     "text": [
      "       one        two     three\n",
      "a -0.617463 -0.804198  1.141566\n",
      "b       NaN       NaN       NaN\n",
      "c  0.771097 -0.701499 -0.668091\n",
      "NaN replaced with '0'\n",
      "       one        two     three\n",
      "a -0.617463 -0.804198  1.141566\n",
      "b  0.000000  0.000000  0.000000\n",
      "c  0.771097 -0.701499 -0.668091\n"
     ]
    }
   ],
   "source": [
    "#The fillna function can \"fill in\" NaN values with non-null data in different methods.\n",
    "\n",
    "#Replace NaN with a scalar value:\n",
    "import pandas as pd\n",
    "import numpy as np\n",
    "df = pd.DataFrame(np.random.randn(3,3),index=['a','c','e'],columns =['one ', 'two', 'three'])\n",
    "df = df.reindex(['a','b','c'])\n",
    "print (df)\n",
    "print (\"NaN replaced with '0'\")\n",
    "print (df.fillna(0))"
   ]
  },
  {
   "cell_type": "markdown",
   "id": "7967291c",
   "metadata": {},
   "source": [
    "Fill NA forward and backward :"
   ]
  },
  {
   "cell_type": "code",
   "execution_count": 44,
   "id": "76608ac9",
   "metadata": {},
   "outputs": [
    {
     "name": "stdout",
     "output_type": "stream",
     "text": [
      "        one       two     three\n",
      "a  1.055712 -0.735200 -1.775587\n",
      "b  1.055712 -0.735200 -1.775587\n",
      "c -0.239658 -0.023311 -0.038379\n",
      "d -0.239658 -0.023311 -0.038379\n",
      "e  0.882769  0.069599  0.244264\n",
      "f -0.066037  0.494994  1.120512\n",
      "g -0.066037  0.494994  1.120512\n",
      "h  0.977151  0.762650 -0.247565\n"
     ]
    }
   ],
   "source": [
    "#Forward and backward filling involves filling the missing data objects above or below the NaN values.\n",
    "#If the data object prior to the missing value is filled , then it is called forward filling.\n",
    "#if the data object next to the missing value is filled,then it is called backward filling .\n",
    "#pad/fill : Fill methods forward.\n",
    "#bfill/backfill : Fill methods backward.\n",
    "\n",
    "#pad/fill :\n",
    "import pandas as pd\n",
    "import numpy as np\n",
    "df = pd.DataFrame(np.random.randn(5,3),index = ['a','c','e','f','h'],columns = ['one','two','three'])\n",
    "df = df.reindex(['a','b','c','d','e','f','g','h'])\n",
    "print (df.fillna(method='pad'))"
   ]
  },
  {
   "cell_type": "code",
   "execution_count": 46,
   "id": "135ad48d",
   "metadata": {},
   "outputs": [
    {
     "name": "stdout",
     "output_type": "stream",
     "text": [
      "        one       two     three\n",
      "a  1.965099 -0.107059  0.900731\n",
      "b  0.834035 -0.574718 -0.078340\n",
      "c  0.834035 -0.574718 -0.078340\n",
      "d -0.497421  0.854410  0.636999\n",
      "e -0.497421  0.854410  0.636999\n",
      "f  0.228755 -0.577907 -1.102702\n",
      "g  0.847834  0.679947 -0.218142\n",
      "h  0.847834  0.679947 -0.218142\n"
     ]
    }
   ],
   "source": [
    "#bfill/backfill :\n",
    "import pandas as pd\n",
    "import numpy as np\n",
    "df = pd.DataFrame(np.random.randn(5,3),index = ['a','c','e','f','h'],columns = ['one','two','three'])\n",
    "df = df.reindex(['a','b','c','d','e','f','g','h'])\n",
    "print (df.fillna(method='bfill'))"
   ]
  },
  {
   "cell_type": "markdown",
   "id": "6a58bceb",
   "metadata": {},
   "source": [
    "Drop missing Values :"
   ]
  },
  {
   "cell_type": "code",
   "execution_count": 50,
   "id": "35bf5a0a",
   "metadata": {},
   "outputs": [
    {
     "name": "stdout",
     "output_type": "stream",
     "text": [
      "        one       two     three\n",
      "a  0.100796  0.558939  0.488761\n",
      "c -0.070478  2.232041  0.193037\n",
      "e -1.271047  0.468052 -0.623290\n",
      "f  1.739567  0.099446  1.116792\n",
      "h -2.293399  0.064282  0.025077\n"
     ]
    }
   ],
   "source": [
    " #If the missing values have to be removed from the analysis, then we use the (dropna())  function along with axis argument.\n",
    "#By default , axis = 0(i.e.,along a row), which means that if any value within a rowis NaN then the whole row is excluded.\n",
    "#for rows\n",
    "import pandas as pd\n",
    "import numpy as np\n",
    "df = pd.DataFrame(np.random.randn(5,3),index = ['a','c','e','f','h'],columns = ['one','two','three'])\n",
    "df = df.reindex(['a','b','c','d','e','f','g','h'])\n",
    "print (df.dropna())"
   ]
  },
  {
   "cell_type": "code",
   "execution_count": 53,
   "id": "53019363",
   "metadata": {},
   "outputs": [
    {
     "name": "stdout",
     "output_type": "stream",
     "text": [
      "Empty DataFrame\n",
      "Columns: []\n",
      "Index: [a, b, c, d, e, f, g, h]\n"
     ]
    }
   ],
   "source": [
    "import pandas as pd\n",
    "import numpy as np\n",
    "df = pd.DataFrame(np.random.randn(5,3),index = ['a','c','e','f','h'],columns = ['one','two','three'])\n",
    "df = df.reindex(['a','b','c','d','e','f','g','h'])\n",
    "print (df.dropna(axis = 1))"
   ]
  },
  {
   "cell_type": "markdown",
   "id": "95eeef8c",
   "metadata": {},
   "source": [
    "Replace missing (or) Generic Values :"
   ]
  },
  {
   "cell_type": "code",
   "execution_count": 58,
   "id": "45a4141f",
   "metadata": {},
   "outputs": [
    {
     "name": "stdout",
     "output_type": "stream",
     "text": [
      "   one  two\n",
      "0   10   10\n",
      "1   20    0\n",
      "2   30   30\n",
      "3   40   40\n",
      "4   50   50\n",
      "5   60   60\n"
     ]
    }
   ],
   "source": [
    "#A generic value can be replaced with a specific value.\n",
    "#This is achieved by applying the replace method.\n",
    "#Replacing NaN with a Scalar value is the equivalent behaviour of the fillna() .\n",
    "import pandas as pd\n",
    "import numpy as np\n",
    "df = pd.DataFrame({'one':[10,20,30,40,50,2000],'two':[1000,0,30,40,50,60]})\n",
    "print (df.replace({1000:10,2000:60}))"
   ]
  },
  {
   "cell_type": "code",
   "execution_count": null,
   "id": "35eec053",
   "metadata": {},
   "outputs": [],
   "source": []
  }
 ],
 "metadata": {
  "kernelspec": {
   "display_name": "Python 3",
   "language": "python",
   "name": "python3"
  },
  "language_info": {
   "codemirror_mode": {
    "name": "ipython",
    "version": 3
   },
   "file_extension": ".py",
   "mimetype": "text/x-python",
   "name": "python",
   "nbconvert_exporter": "python",
   "pygments_lexer": "ipython3",
   "version": "3.8.8"
  }
 },
 "nbformat": 4,
 "nbformat_minor": 5
}
